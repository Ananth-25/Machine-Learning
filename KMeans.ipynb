{
  "nbformat": 4,
  "nbformat_minor": 0,
  "metadata": {
    "colab": {
      "name": "Untitled6.ipynb",
      "provenance": [],
      "authorship_tag": "ABX9TyPh7FEdd5u/hKtcQKUbi0Og",
      "include_colab_link": true
    },
    "kernelspec": {
      "name": "python3",
      "display_name": "Python 3"
    }
  },
  "cells": [
    {
      "cell_type": "markdown",
      "metadata": {
        "id": "view-in-github",
        "colab_type": "text"
      },
      "source": [
        "<a href=\"https://colab.research.google.com/github/Ananth-25/Machine-Learning/blob/master/KMeans.ipynb\" target=\"_parent\"><img src=\"https://colab.research.google.com/assets/colab-badge.svg\" alt=\"Open In Colab\"/></a>"
      ]
    },
    {
      "cell_type": "code",
      "metadata": {
        "id": "x7AenvKEgIhF",
        "colab_type": "code",
        "colab": {}
      },
      "source": [
        "import pandas as pd  \n",
        "import numpy as np  \n",
        "import matplotlib.pyplot as plt  "
      ],
      "execution_count": 1,
      "outputs": []
    },
    {
      "cell_type": "code",
      "metadata": {
        "id": "T97lvNGak9Ng",
        "colab_type": "code",
        "colab": {}
      },
      "source": [
        "# Importing the dataset (Bivariate Data Set with 3 Clusters)\n",
        "dataset = pd.read_csv('xclara.csv')"
      ],
      "execution_count": 32,
      "outputs": []
    },
    {
      "cell_type": "code",
      "metadata": {
        "id": "xZ6GvvgUlHDK",
        "colab_type": "code",
        "colab": {}
      },
      "source": [
        "features = dataset.iloc[:, [0, 1]].values"
      ],
      "execution_count": 33,
      "outputs": []
    },
    {
      "cell_type": "code",
      "metadata": {
        "id": "n79bq9XMlJtv",
        "colab_type": "code",
        "colab": {
          "base_uri": "https://localhost:8080/",
          "height": 264
        },
        "outputId": "212c7f83-50bf-4ee7-c90b-81b5f52f59ba"
      },
      "source": [
        "plt.scatter(features[:,0], features[:,1])\n",
        "plt.show()"
      ],
      "execution_count": 34,
      "outputs": [
        {
          "output_type": "display_data",
          "data": {
            "image/png": "[encoded data removed]",
            "text/plain": [
              "<Figure size 432x288 with 1 Axes>"
            ]
          },
          "metadata": {
            "tags": [],
            "needs_background": "light"
          }
        }
      ]
    },
    {
      "cell_type": "code",
      "metadata": {
        "id": "AqwcXww1lMau",
        "colab_type": "code",
        "colab": {}
      },
      "source": [
        "# Fitting K-Means to the dataset using 3 clusters\n",
        "from sklearn.cluster import KMeans\n",
        "# Since we have seen the visual, we have told the algo to make 3 cluster\n",
        "kmeans = KMeans(n_clusters = 3, init = 'k-means++')\n"
      ],
      "execution_count": 35,
      "outputs": []
    },
    {
      "cell_type": "code",
      "metadata": {
        "id": "wVYu1xQ9lQLu",
        "colab_type": "code",
        "colab": {
          "base_uri": "https://localhost:8080/",
          "height": 34
        },
        "outputId": "2429b23f-b050-4ba8-e7f5-073348741c77"
      },
      "source": [
        "pred_cluster = kmeans.fit_predict(features) # We have only passed features \n",
        "\n",
        "print(pred_cluster) # Its the cluster id with 0 1 and 2 \n"
      ],
      "execution_count": 36,
      "outputs": [
        {
          "output_type": "stream",
          "text": [
            "[2 2 2 ... 0 0 0]\n"
          ],
          "name": "stdout"
        }
      ]
    },
    {
      "cell_type": "code",
      "metadata": {
        "id": "hx7X9H64lTKr",
        "colab_type": "code",
        "colab": {
          "base_uri": "https://localhost:8080/",
          "height": 34
        },
        "outputId": "a3cc54d8-5604-4ac5-f892-203d5c4b0d7e"
      },
      "source": [
        "len(features[pred_cluster==0])"
      ],
      "execution_count": 37,
      "outputs": [
        {
          "output_type": "execute_result",
          "data": {
            "text/plain": [
              "952"
            ]
          },
          "metadata": {
            "tags": []
          },
          "execution_count": 37
        }
      ]
    },
    {
      "cell_type": "code",
      "metadata": {
        "id": "oRmp9GtrlWP1",
        "colab_type": "code",
        "colab": {
          "base_uri": "https://localhost:8080/",
          "height": 34
        },
        "outputId": "3325478b-6cd8-4988-ac9f-4cdc382cdc20"
      },
      "source": [
        "len(features[pred_cluster==1])"
      ],
      "execution_count": 38,
      "outputs": [
        {
          "output_type": "execute_result",
          "data": {
            "text/plain": [
              "1149"
            ]
          },
          "metadata": {
            "tags": []
          },
          "execution_count": 38
        }
      ]
    },
    {
      "cell_type": "code",
      "metadata": {
        "id": "YoOgr_K6lWVn",
        "colab_type": "code",
        "colab": {
          "base_uri": "https://localhost:8080/",
          "height": 34
        },
        "outputId": "cf3b76bb-3245-41e7-a238-a8768762077a"
      },
      "source": [
        "len(features[pred_cluster==2])"
      ],
      "execution_count": 39,
      "outputs": [
        {
          "output_type": "execute_result",
          "data": {
            "text/plain": [
              "899"
            ]
          },
          "metadata": {
            "tags": []
          },
          "execution_count": 39
        }
      ]
    },
    {
      "cell_type": "code",
      "metadata": {
        "id": "8FCnamVQlW4d",
        "colab_type": "code",
        "colab": {
          "base_uri": "https://localhost:8080/",
          "height": 141
        },
        "outputId": "ec88bc5c-a406-4b91-e869-6ad18588dfbd"
      },
      "source": [
        "print(features)"
      ],
      "execution_count": 40,
      "outputs": [
        {
          "output_type": "stream",
          "text": [
            "[[  2.072345  -3.241693]\n",
            " [ 17.93671   15.78481 ]\n",
            " [  1.083576   7.319176]\n",
            " ...\n",
            " [ 64.46532  -10.50136 ]\n",
            " [ 90.72282  -12.25584 ]\n",
            " [ 64.87976  -24.87731 ]]\n"
          ],
          "name": "stdout"
        }
      ]
    },
    {
      "cell_type": "code",
      "metadata": {
        "id": "UFeu4kRiltAQ",
        "colab_type": "code",
        "colab": {
          "base_uri": "https://localhost:8080/",
          "height": 1000
        },
        "outputId": "458849b7-ccbc-4e29-9a55-75a64fd9d174"
      },
      "source": [
        "# Will print V1\n",
        "print(features[pred_cluster == 0, 0])  # 0 is for V1\n",
        "\n",
        "# Will print V2\n",
        "print(features[pred_cluster == 0, 1])  # 1 is for V2\n"
      ],
      "execution_count": 41,
      "outputs": [
        {
          "output_type": "stream",
          "text": [
            "[ 36.17882  50.97437  68.77616  56.22534  84.62974  95.91765  66.93266\n",
            "  68.5361   76.53591  76.23439  54.16949  72.58262  81.56219  67.99164\n",
            "  64.71255  70.76205  80.15953  64.54891  72.76769  79.9837   79.13871\n",
            "  44.28213  64.1403   59.16926  81.54203  74.12215  69.51984  80.76502\n",
            "  54.98248  63.85516  70.24579  64.31788  86.6356   84.94551  84.22009\n",
            "  64.29858  78.10973  75.86112  90.31363  62.72575  75.54213  65.45658\n",
            "  61.91086  59.13503  60.52482  80.68502  66.77925  66.15932  66.32986\n",
            "  63.90113  82.86773  85.21556  67.60797  66.35771  65.34889  95.9356\n",
            "  55.30122  53.70588  58.04943  75.83075  61.31218  77.7234   85.97016\n",
            "  68.26376  77.10473  78.19132  65.10429  79.52807  75.18258  73.22818\n",
            "  67.87865  67.49999  68.73451  68.80344  70.23388  74.11479  52.94662\n",
            "  61.4234   75.64492  70.19157  57.02136  62.74637  65.85207  74.1682\n",
            "  69.75043  57.04818  78.25997  63.72304  64.25357  60.51129  64.83588\n",
            "  64.00904  84.36928  65.89382  66.97235  84.08383  68.23765  72.25073\n",
            "  55.23472  75.93697  68.67339  56.01145  77.52585  88.95077  61.68007\n",
            "  94.70014  66.70215  77.82463  87.91064  61.9166   80.87708  80.89673\n",
            "  66.70298  63.19015  76.81372  65.06876  95.32207  57.72157  55.37355\n",
            "  69.38057  67.81506  76.97593  77.27475  83.35947  61.09789  65.82687\n",
            "  74.95858  62.60687  51.71922  74.93252  79.38506  75.77722  58.46342\n",
            "  75.47081  44.91439  68.68961  61.03369  58.83893  82.02278  70.77446\n",
            "  79.77536  74.93503  72.12925  80.84457  57.63159  80.52416  63.2352\n",
            "  82.18422  97.35694  60.78475  70.74291  74.0169   66.91939  76.09503\n",
            "  81.78097  80.09553  73.32889  62.58947  67.35439  86.32658  71.04987\n",
            "  83.78762  74.85747  77.72216  68.97789  59.17707  50.49705  80.156\n",
            "  73.31786  59.61196  68.88152  88.66383  54.22847  71.32836  77.83042\n",
            "  72.29527  60.87722  90.33483  74.31378  73.68492  67.73081  70.87401\n",
            "  58.89813  61.02102  63.88495  60.26458  70.30639  73.19178  58.26951\n",
            "  73.826    76.70216  69.07478  55.76127  84.63778  74.96148  57.6636\n",
            "  64.04885  71.5033   82.15275  63.34114  73.77465  72.78902  60.628\n",
            "  70.46724  71.33598  78.18223  65.29634  79.06381  59.79717  77.98643\n",
            "  79.18679  61.1682   73.55363  71.21541  72.69725  66.1658   66.57901\n",
            "  77.53841  68.90079  75.15744  60.93241  70.77527  61.57277  74.40188\n",
            "  76.09887  63.0071   55.08188  62.74949  69.52172  72.21619  86.36201\n",
            "  57.06537  65.3979   62.21588  66.55029  63.71606  61.24889  67.01504\n",
            "  76.54024  51.77094  85.88293  61.10013  59.85202  75.82624  61.68382\n",
            "  57.11461  77.37225  56.9189   68.24066  70.99341  55.90017  65.72708\n",
            "  86.9104   60.30796  58.89599  64.42315  68.26449  60.80457  74.24806\n",
            "  68.40987  75.19914  53.99338  64.66423  78.41882  90.1256   78.52343\n",
            "  69.83008  76.66716  73.33869  54.61538  75.07177  72.55125  75.25325\n",
            "  63.05424  74.84572  81.29542  86.43307  58.70364  50.14929  63.98909\n",
            "  65.58124  78.43384  81.6864   71.32661  56.50423  66.49155  77.01996\n",
            "  83.91402  69.80927  59.75429  97.82028  91.93916  67.92403  61.81742\n",
            "  71.14845  66.59299  68.46967  75.83458  79.48316  63.92749  67.65975\n",
            "  67.92516  65.09831  70.69653  77.50496  88.75939  66.10896  48.80508\n",
            "  77.87479  74.65789  82.11505  73.36298  71.40567  58.62062  65.29806\n",
            "  72.86081  71.3769   84.13732  70.62952  74.71705  69.74262  72.60228\n",
            "  62.13006  60.11729  76.74555  67.41577  73.11009  79.32548 104.3766\n",
            "  66.86716  89.33103  35.74094  76.09913  69.3201   64.45351  81.06175\n",
            "  58.83277  59.77071  69.73292  66.791    49.65516  70.70066  72.20053\n",
            "  65.95326  74.20015  72.81212  57.88044  48.90072  61.67483  72.80554\n",
            "  82.24438  68.85194  70.258    51.29503  71.87862  74.26682  73.88967\n",
            "  72.43866  68.84693  67.4579   63.23736  67.04572  61.14106  59.06593\n",
            "  63.0932   64.19505  69.14382  68.2186   80.78812  62.15595  76.2021\n",
            "  67.71612  66.87748  81.16841  77.52612  73.13333  62.92608  51.79126\n",
            "  69.15686  62.27294  62.86968  59.75554  55.93825  63.37816  89.06512\n",
            "  59.49207  63.0717   74.18266  72.99597  74.54878  72.79072  68.58779\n",
            "  83.4991   85.60566  49.33336  80.25808  73.99424  71.49039  75.56422\n",
            "  50.77177  63.31959  62.63376  72.48474  55.5865   51.66027  53.65475\n",
            "  89.75272  60.46186  80.376    61.82472  73.42504  72.77863  67.30395\n",
            "  71.1454   91.37652  70.45771  65.35571  86.14405  40.98589  85.28412\n",
            "  84.69904  78.1619   63.30449  50.9626   78.5982   71.42413  73.3584\n",
            "  63.5102   64.3641   79.91314  70.61451  77.37191  62.43318  66.53034\n",
            "  53.39924  82.79707  65.8034   87.72446  68.37877  76.46407  67.35838\n",
            "  89.75777  71.4421   74.56606  68.46404  78.44227  73.10613  62.34706\n",
            "  51.82533  70.39661  76.49829  61.48431  61.80352  76.0211   60.64451\n",
            "  71.70814  76.83708  78.40622  68.72024  50.06301  87.69692  86.99997\n",
            "  68.19161  68.08471  64.0625   74.93968  74.13194  67.39908  73.78174\n",
            "  55.11437  82.80132  61.3069   66.26919  59.19792  62.44526  49.19779\n",
            "  72.94774  59.87773  73.47509  85.36645  69.38539  62.15073  64.23726\n",
            "  72.92104  77.48227  77.34316  69.85361  70.68102  84.16232  57.46576\n",
            "  63.88039  92.76103  86.41515  63.23813  72.81642  52.98323  66.03696\n",
            "  63.82113  84.74937  66.82718  66.8739   90.11309  43.88975  81.08251\n",
            "  62.29297  58.55329  56.00959  76.57934  82.2019   73.04178  69.56355\n",
            "  52.04093  73.3532   63.90973  50.83435  72.19453  74.73565  68.85865\n",
            "  80.10725  73.59379  64.91755  69.18629  56.67511  63.84701  73.52853\n",
            "  77.77298  66.58747  74.68619  82.44135  52.30627  69.2922   64.40332\n",
            "  87.83745  73.06476  58.63267  74.55995  74.27044  50.25447  62.09312\n",
            "  87.61305  79.40338  77.56643  87.67891  67.52089  79.92055  71.32548\n",
            "  57.68811  85.23694  64.65368  61.31142  59.06764  87.76017  68.24614\n",
            "  64.45452  65.53308  63.89614  80.11442  53.4408   71.92873  61.59669\n",
            "  66.93093  50.34516  72.01345  83.8145   78.27926  63.37316  67.56707\n",
            "  78.30576  64.15815  58.67935  84.99193  66.11341  74.52394  70.64279\n",
            "  89.6064   76.0323   75.88329  91.41507  75.96584  56.82018  65.26213\n",
            "  72.5354   42.97974  58.11489  73.26022  77.94697  71.2361   80.56624\n",
            "  88.41406  72.93951  71.42486  85.37737  60.69893  84.41388  78.85013\n",
            "  72.23627  79.51451  70.81757  79.3355   83.92007  64.99888  70.30046\n",
            "  72.4469   65.32914  69.68672  82.80947  66.12637  74.31614  62.74274\n",
            "  66.71625  52.76581  64.23697  82.93062  36.50027 103.9198   78.92066\n",
            "  71.31289  70.89019  87.70451  58.66569  65.94133  53.61497  80.81969\n",
            "  67.59589  70.45368  52.61427  67.05727  80.33527  65.81659  58.66797\n",
            "  63.55366  72.77927  70.05731  63.67471  61.41443  59.91931  54.54313\n",
            "  70.58784  53.50132  72.78958  76.30181  51.48873  82.67635  64.73662\n",
            "  89.92531  82.33732  67.7835   82.0141   65.64449  58.89835  50.28286\n",
            "  68.29051  85.31325  93.10153  64.6744   72.97454  74.51596  68.41306\n",
            "  75.30674  53.84029  67.35263  67.39329  56.93941  69.12279  57.22761\n",
            "  76.05929  59.81583  64.30557  59.1149   91.61397  78.31008  68.59947\n",
            "  68.01685  82.84614  49.51263  69.8973   84.17337  78.89444  70.69758\n",
            "  61.77013  78.0163   73.54946  55.73493  65.89819  57.39889  63.04364\n",
            "  90.12375  64.38116  63.44825  72.94678  52.57834  63.63273  71.99254\n",
            "  72.39277  79.11701  51.93237  70.43403  73.80844  81.84084  60.51824\n",
            "  76.27817  72.43248  68.76535  60.72785  68.29949  71.62149  70.59952\n",
            "  80.10539  70.75399  61.23998  68.3528   61.51666  71.43109  62.02735\n",
            "  61.78095  98.66974  73.01436  82.94384  80.52203  53.52886  70.67194\n",
            "  56.81425  72.37652  49.83153  70.16466  72.25542  69.0665   57.83613\n",
            "  75.97397  68.33255  60.67356  61.20472  65.426    77.37339  65.88091\n",
            "  68.68376  83.17385  69.57142  87.76274  64.25253  58.7633   87.6779\n",
            "  84.77952  44.48759  71.15801  81.11289  69.6739   77.81984  74.59189\n",
            "  87.18534  80.60636  84.97687  79.38887  73.09005  83.21137  54.64416\n",
            "  73.64229  68.84037  75.82528  77.2142   62.69973  65.87854  65.8312\n",
            "  69.75814  68.61625  64.98134  64.85876  66.79546  43.56437  68.28453\n",
            "  53.97722  72.37554  45.12958  79.23594  67.89267  77.45593  67.28255\n",
            "  77.23093  77.14531  60.35104  65.31193  77.93611  79.88167  64.06412\n",
            "  55.65335  60.33708  69.20068  62.69723  66.39989  60.86256  74.03131\n",
            "  82.44264  71.05727  80.91493  74.19766  73.76104  69.15085  73.74459\n",
            "  93.63296  72.05005  79.09497  52.66147  91.25622  69.69169  47.71091\n",
            "  55.00807  67.68167  65.44644  84.56817  97.56903  53.24852  67.16991\n",
            "  62.42045  59.63564  78.52355  68.07284  64.40905  83.58873  83.71054\n",
            "  76.59972  65.59871  64.16531  72.31848  72.89074  71.85983  74.98594\n",
            "  68.01299  71.72321  85.0203   66.09438  85.76525  75.29033  69.05731\n",
            "  84.21595  69.43209  69.3489   67.496    54.37956  55.37194  65.99169\n",
            "  82.59654  80.10463  62.44377  87.34288  63.13534  80.38442  53.62364\n",
            "  70.99268  92.67575  65.15415  79.33412  69.03038  85.09824  75.07559\n",
            "  74.90408  51.66653  77.56271  83.9768   52.63898  64.80269  60.91487\n",
            "  76.31144  72.70005  54.85474  60.46303  73.09839  58.33049  78.08799\n",
            "  61.18767  76.27331  67.0222   83.54788  54.19945  67.80528  87.90198\n",
            "  62.05761  67.43387  51.20422  83.53147  63.07033  62.59971  68.3894\n",
            "  75.60424  51.39455  54.05743  54.21433  66.1136   72.98232  63.47237\n",
            "  67.75566  59.91527  59.59558  74.9352   59.33881  79.36212  82.11814\n",
            "  83.82712  74.61884  61.73203  68.48677  69.30094  56.70621  71.53534\n",
            "  76.21033  63.84636  66.25222  81.44768  62.67937  54.33532  75.66274\n",
            "  80.03555  60.50964  69.59802  63.66285  56.05253  64.07648  64.70491\n",
            "  80.56889  86.61128  76.73148  68.25068  83.53589  84.63376  59.70858\n",
            "  66.62059  79.4429   59.14149  62.93142  76.28171  81.7813   49.64519\n",
            "  58.37999  74.68241  88.04622  41.72015  61.91275  74.79148  61.99087\n",
            "  82.01159  78.71038  85.51906  76.5364   48.34201  69.69287  79.86285\n",
            "  69.80298  83.65175  85.6528   82.77088  64.46532  90.72282  64.87976]\n",
            "[-2.217760e+01  1.926007e+01 -2.390883e+01 -5.294665e+00 -8.592495e+00\n",
            " -1.708491e+01 -3.231932e+00 -2.618595e+01 -3.304326e+00 -1.141890e+01\n",
            " -1.901123e+01 -1.683923e+01 -1.694383e+00 -1.764808e+01 -1.486299e+01\n",
            " -1.340530e+01 -1.895146e+00 -1.188370e+00 -1.913954e+00 -2.064003e+01\n",
            "  3.933550e+00  1.785785e+00 -9.613207e+00  1.310082e+01  8.749848e+00\n",
            " -2.266961e+01 -1.294162e+01 -7.238871e+00 -5.827399e+00 -1.502977e+00\n",
            " -2.248083e+01 -1.237871e+01 -2.034880e+01 -1.181974e+01  2.136558e-01\n",
            " -7.748638e+00 -1.483134e+01 -1.163541e+01 -6.734307e+00 -1.850824e+01\n",
            " -4.170342e+00 -1.057994e+01 -2.055287e+01 -1.854382e+01  4.002958e+00\n",
            " -1.062564e+01 -6.613982e+00 -1.241949e+01 -9.856625e-01 -8.547860e+00\n",
            " -7.530378e+00 -2.469871e+01  6.669538e+00 -2.443254e+01 -1.615385e+01\n",
            " -1.387495e+01 -3.164437e+00 -2.206458e+01 -2.860465e+00 -1.185008e+01\n",
            " -1.907840e+01 -2.877346e+00 -1.781126e+01 -1.915556e+01 -1.901528e+01\n",
            " -8.509058e+00 -3.435620e+00 -2.763379e+01 -6.525010e+00 -3.601662e+00\n",
            "  6.670040e+00 -3.656658e+00 -1.485050e+01  2.036219e-01 -1.111902e+00\n",
            " -7.362882e+00 -2.611158e+01  4.106580e+00 -2.729068e+01 -1.542674e+01\n",
            " -2.837956e+01 -1.318800e+01 -2.020264e+01 -9.089777e+00 -3.842613e-01\n",
            " -1.648449e+01 -7.998330e+00 -2.423505e+01 -1.280524e+01 -3.604612e-01\n",
            " -2.828358e+00 -2.874335e+01  1.672451e+00 -9.091981e+00 -1.993247e+01\n",
            "  6.852012e+00  2.762476e+00 -1.715958e+01  3.789266e+00 -4.408560e+00\n",
            " -4.801611e+00 -1.784860e+01 -1.570033e+01 -1.944843e+01  8.509057e+00\n",
            " -6.385033e+00 -2.973264e+01 -1.006171e+01 -3.096477e+01 -8.827060e+00\n",
            " -7.162395e-01 -2.338986e+01  4.803512e+00 -2.061243e+01 -2.690243e+01\n",
            "  4.386009e+00 -1.698335e+01 -1.560494e+01  1.582913e-01 -1.299076e+01\n",
            " -4.811255e+00 -8.360360e+00  4.903346e+00 -2.226367e+01 -1.429766e+01\n",
            " -1.921419e+01 -4.134062e+00  1.320539e+01 -1.788583e-01 -5.864232e-01\n",
            " -1.922170e+01 -2.650406e+01 -1.513272e+01 -2.260266e+01 -5.197128e+00\n",
            "  1.247448e+01  7.950336e-01 -2.276435e+00 -8.854354e+00 -1.275299e+01\n",
            " -2.866915e+01 -3.327770e+00 -1.227785e+01 -2.636685e+00 -1.221671e+00\n",
            "  6.845383e+00 -2.472682e+01 -2.951219e+01 -2.163071e+00 -3.103982e+01\n",
            " -2.215998e+01  1.451656e+01 -1.224789e+01  4.343313e+00 -8.727156e+00\n",
            " -4.232298e+00  1.538375e+00  4.468431e+00 -1.661995e+01 -1.445837e+01\n",
            " -2.683244e+00  2.649733e+01 -5.059505e+00  6.093524e+00 -4.123292e+00\n",
            " -1.473758e+01 -1.790728e+01  6.284120e+00 -9.305126e+00 -4.425068e+00\n",
            " -9.893832e+00 -7.909438e+00 -1.632238e+01  2.896152e+00 -5.410922e+00\n",
            " -1.643808e+00 -2.211240e+01 -5.948239e+00 -2.085082e+01 -4.392175e+00\n",
            " -1.878214e+01 -1.391332e+01 -1.263629e+00 -1.300759e+01  4.276434e+00\n",
            "  7.716272e-01 -1.166815e+01 -4.823114e+00 -1.358154e+01 -5.296699e+00\n",
            " -7.703344e+00  2.692738e+00 -2.763965e+01  8.418250e-01  1.191875e+01\n",
            " -2.391239e+01 -6.910765e+00 -2.369585e-02 -2.160810e+01 -2.532150e+01\n",
            " -8.064701e+00 -2.523712e+01 -1.769653e+01 -1.325096e+01 -3.530176e+01\n",
            " -4.003611e+00 -1.471507e+01 -1.752429e+01 -1.580204e+01  1.485500e-01\n",
            " -2.284098e+01 -1.787923e+01  3.718564e+00 -7.743013e+00 -1.052523e+01\n",
            "  8.654269e+00 -7.968690e+00 -7.255456e+00 -1.174505e+00 -4.303189e+00\n",
            " -1.962630e+01 -1.519386e+01 -1.984966e+01 -1.265376e+01 -8.812416e+00\n",
            "  4.700768e+00 -1.381331e+01 -7.885534e+00 -1.122383e+01  1.537016e+00\n",
            " -1.903397e+01 -8.751387e+00 -1.594234e+00 -1.788168e+01 -2.634649e+01\n",
            " -2.147129e+00  1.137515e+01 -1.391390e+01  7.571401e+00 -1.834046e+01\n",
            "  3.302760e+00 -1.241815e+01 -5.652476e+00 -2.009061e+01 -1.330922e+01\n",
            " -1.471895e+01 -1.998448e+00 -5.607814e+00 -1.677830e+01 -2.021861e+01\n",
            " -2.442781e+01 -1.262672e+01 -2.218481e+00 -2.113974e+01 -1.365608e+01\n",
            "  2.896175e+00 -1.292433e+00 -1.641014e+01 -2.390477e+01 -1.351733e+00\n",
            " -1.788874e+01 -1.679015e+01 -1.121753e+01 -8.131473e+00 -2.457763e+01\n",
            " -2.397729e+01 -6.202702e+00 -1.095484e+01 -1.450632e+01  8.220260e-01\n",
            "  2.725070e+00  1.647440e+01  4.462009e+00 -1.270489e+01 -6.913638e+00\n",
            " -1.813609e+01  1.714600e+00 -4.059786e+00 -1.431598e+01 -1.118955e+01\n",
            " -1.116373e+01  1.611536e+00 -7.565635e+00 -2.421140e+01 -6.708519e-01\n",
            " -1.193227e+01 -7.084207e+00 -1.372130e+00 -1.262827e+01  1.039816e+00\n",
            " -1.656395e+01 -1.150087e+00 -1.703266e+01  9.498615e+00 -8.638981e+00\n",
            " -3.246637e+01 -3.053499e+01 -3.566499e+00 -3.080059e+01 -1.138430e+01\n",
            " -9.337537e+00  4.484799e+00 -1.152629e+01 -1.515048e+01 -9.722227e+00\n",
            " -1.032080e+01 -2.677577e+01 -2.248440e+01 -5.751227e+00 -8.919705e+00\n",
            " -1.623908e+00 -1.460543e+01 -4.340033e+00 -1.019077e+01  2.156136e+00\n",
            " -1.182809e+01 -9.252214e+00  8.626088e+00 -2.913831e+01 -1.716086e+01\n",
            " -8.386807e+00 -4.416259e+00 -2.279853e+01  1.188867e+01 -1.736389e+01\n",
            " -9.266467e+00 -2.310049e+01 -1.570281e+01  4.351511e+00 -1.987777e+01\n",
            " -1.280378e+01 -2.400127e+01 -1.821636e+01 -5.764337e+00 -9.646416e+00\n",
            " -2.119148e+01 -3.300213e+00 -6.573427e+00 -2.209676e+01 -1.047102e+01\n",
            " -1.869738e+00 -1.589514e+01 -1.237627e+01 -1.693183e+01 -1.489715e+01\n",
            " -3.046355e+00 -4.081336e+00 -2.198084e+01  4.149319e+00 -5.543254e+00\n",
            " -8.713730e+00 -9.684211e-01 -5.573562e+00  3.890627e+00  1.958380e+00\n",
            "  2.268598e-01 -4.138421e+00 -8.702070e+00 -4.473853e+00 -1.151909e+01\n",
            " -4.332619e+00 -8.749687e+00 -2.012918e+01 -3.659645e+01 -9.511965e+00\n",
            " -4.122554e+00 -6.864115e+00 -1.396171e+01 -2.161113e+01 -5.598550e+00\n",
            " -3.535414e-01 -2.195391e+01 -1.376373e+01 -1.273220e+01 -1.685477e+01\n",
            " -1.403496e+01 -1.399750e+01  6.185827e+00 -9.004087e+00 -7.576707e+00\n",
            " -8.900020e+00 -1.864859e+01 -5.324996e+00  8.626922e+00 -1.800787e+01\n",
            " -2.183900e+01  4.165300e+00 -1.439385e+01 -2.199502e+01  6.899900e-01\n",
            " -1.342379e+01  4.890194e-01 -3.712483e+00 -2.347389e+00 -1.645131e+01\n",
            " -1.790534e+01 -3.416731e+00 -3.268723e+01 -3.510705e+01 -5.560257e+00\n",
            "  3.695687e+00 -2.060124e+01 -9.643281e+00 -2.330693e+01 -2.996612e+01\n",
            " -5.412206e+00 -8.296798e+00  2.982870e+00 -1.160401e+01 -1.303964e+01\n",
            " -1.202837e+01  1.591326e+00 -2.265711e+01 -6.820285e+00 -1.032453e+01\n",
            " -2.015341e+00 -2.156085e+00 -6.644713e+00 -2.096894e+01 -1.627302e+01\n",
            " -1.124636e+01 -2.253974e+01 -7.136283e+00 -5.868152e-01 -2.402210e+01\n",
            " -1.580383e+01  1.431008e+00 -1.089118e+01 -3.868109e+01 -1.689974e+01\n",
            " -1.364807e+01 -2.969170e+01  4.515735e+00 -2.373638e+01 -8.951078e+00\n",
            " -3.406174e+00 -1.119213e+01 -1.788042e+00 -1.121265e+01  1.250499e+00\n",
            " -1.977294e+00 -2.019515e+01 -6.040679e+00 -8.156192e+00 -7.432018e+00\n",
            " -1.359282e+01  5.701017e+00 -2.254894e+01 -1.428696e+01 -5.694306e+00\n",
            " -4.378538e+00 -1.631903e+01  1.297201e+00 -7.230398e+00  7.604861e+00\n",
            " -1.286116e+01 -1.812474e+01 -1.809712e+01 -2.395237e+01 -2.020353e+01\n",
            " -1.142972e+01  4.574135e+00 -2.004976e+01 -2.809651e+01 -1.074990e+01\n",
            " -1.394003e+01 -7.691431e+00 -2.257539e+01  6.641589e-01 -1.170788e+01\n",
            " -1.310405e+01  7.839162e+00 -2.282228e+00 -1.132849e+01 -3.015219e+01\n",
            " -1.171951e+01 -8.344704e+00 -5.742763e+00 -4.283149e+00 -1.646919e+01\n",
            " -1.906945e+00 -5.052795e+00 -1.333510e+01  7.916440e-01 -2.313051e+01\n",
            "  3.181548e+00 -9.066127e+00 -3.586060e+00 -2.439767e+01  4.544234e+00\n",
            "  1.740880e+00  1.320703e+00 -1.248442e+01  6.457113e-01 -1.778091e+01\n",
            "  1.240638e+00 -1.512986e+01 -8.541133e+00 -2.177988e+01 -1.849357e+01\n",
            " -7.117552e+00 -1.373802e+01 -1.382000e+01 -1.244169e+01 -1.646992e+01\n",
            " -2.356855e+01  8.877159e+00 -6.173397e+00 -6.965297e+00 -1.476294e+01\n",
            " -1.255183e+01 -1.404998e+01 -7.789966e+00 -1.261178e+01 -1.439128e+00\n",
            " -1.644232e+01 -2.590802e+01 -1.091415e+01 -4.844485e+00 -2.300540e+00\n",
            " -1.779653e+01 -1.345729e+00 -1.989974e+01  7.070253e+00 -4.305105e+00\n",
            " -2.097871e+01 -1.651202e+01 -1.378516e+01 -3.198811e+00 -1.996528e+01\n",
            " -8.165172e+00  1.153880e+01 -5.797536e+00  2.346044e+00  1.105400e+00\n",
            " -1.494582e+01 -2.181354e+01 -9.793256e+00 -2.210528e+01  8.871884e-01\n",
            "  3.454682e+00  1.725978e+01 -5.012097e+00  5.997717e-01 -2.785855e+00\n",
            " -6.040786e+00 -2.681790e+01 -7.594193e+00 -8.683290e+00  1.126660e+01\n",
            "  7.588652e+00 -1.161341e+01 -2.637716e+01 -2.222824e+00 -2.909276e+01\n",
            " -1.910272e+01  1.305422e+01 -4.500050e+00 -1.693747e+01 -1.075492e+01\n",
            " -1.378257e+01 -9.613154e+00 -1.367514e+01 -2.473408e+01 -2.117256e-01\n",
            " -5.140422e+00  1.263094e+00 -2.315313e+00 -9.960403e+00 -5.187703e+00\n",
            " -2.574853e+01 -4.922376e+00 -1.039614e+00 -8.465358e+00  4.708340e-01\n",
            " -3.837667e+00 -1.140071e+01 -1.858123e+01 -5.745560e+00 -1.815180e+01\n",
            " -1.156317e+00 -2.020325e+01 -8.860008e+00 -1.828166e+01 -1.198803e+01\n",
            " -1.241635e+01 -8.819086e+00  7.036737e+00 -1.311624e+01 -8.774334e+00\n",
            " -6.568674e+00 -2.574961e+00  4.760236e+00 -6.605288e+00 -1.148461e+01\n",
            " -3.348330e+00 -7.224457e+00 -2.052531e+01 -1.701338e+01 -1.897531e+01\n",
            " -4.225446e+00  4.675978e+00 -1.450134e+01 -2.057936e+01 -8.770884e+00\n",
            " -2.210701e+00 -2.465817e+01  4.964872e-01 -1.914187e+01 -1.283010e+00\n",
            "  2.249599e+00  2.673515e+00 -2.018061e+01 -2.149223e+01 -2.594061e+01\n",
            " -1.220063e+01  4.678265e+00  1.540430e+01 -1.531650e+01 -4.894761e+00\n",
            " -4.717233e-01 -2.094196e+01 -3.037179e+01 -2.237453e+00 -1.435000e+01\n",
            " -5.968235e+00 -1.836929e+01  1.000380e+01 -7.695396e+00 -6.653395e+00\n",
            " -3.360001e+01 -2.601520e+00 -6.740457e+00 -1.957441e+01 -1.256155e+01\n",
            " -1.140836e+01 -9.975537e+00 -9.452148e+00 -1.188279e+01 -2.822006e+01\n",
            " -6.231672e+00 -3.135942e+01 -1.914385e+01 -2.046305e+01 -1.070861e+01\n",
            " -6.081996e+00 -1.378307e+01  8.581901e+00 -3.324757e+00 -2.279558e+01\n",
            "  4.203121e+00 -1.359784e+01 -9.977645e+00 -1.448068e+01 -1.086240e+00\n",
            "  8.260532e-01 -9.207847e+00 -2.750809e+00 -4.204458e+00 -1.240979e+01\n",
            " -3.542486e-01 -3.294880e+01 -4.871946e+00  5.317039e+00 -5.167954e+00\n",
            " -5.569526e+00 -4.150285e+00 -2.727140e+01 -1.625977e+01 -1.211007e+01\n",
            " -1.637730e+01  7.928145e-01  1.108887e+00 -1.249169e+01 -5.111645e-01\n",
            " -3.417000e+01 -4.631359e+00 -2.429788e+01  9.444025e+00 -1.968894e+01\n",
            "  4.235490e+00 -1.609942e+01 -1.274454e+01  1.369386e+01 -1.382744e+01\n",
            " -2.731653e+01 -1.825440e+01 -2.361167e+01 -5.623520e+00 -1.725217e+01\n",
            " -1.312009e+01  5.738944e+00 -1.099059e+01 -4.811533e+00 -4.512673e+00\n",
            " -1.786623e+01 -2.159988e+01 -2.224638e+00 -1.973066e+01 -7.986829e+00\n",
            " -2.623452e+01 -1.891511e+01  1.418947e+00  2.763541e+00 -1.158326e+01\n",
            " -2.687554e+01 -5.845408e+00 -1.082620e+01  1.009409e+01 -2.144423e+01\n",
            "  8.337489e+00 -1.243442e+01 -6.148352e-03 -2.419875e+01  1.968633e+00\n",
            " -2.164127e+00 -1.722455e+00 -9.408177e-01 -1.320871e+01 -3.686721e+00\n",
            " -7.722773e-01 -1.370458e+01 -2.652538e+01 -8.861414e+00 -1.897082e+01\n",
            "  1.713289e+01  2.742776e+00 -1.477452e+00 -2.284942e+01  6.976613e-01\n",
            " -8.953940e+00 -1.492680e+01 -8.987577e+00 -3.914790e+00 -2.463820e+01\n",
            " -2.648481e+01 -1.166942e+01 -1.190850e+00 -1.209585e+01 -4.659249e+00\n",
            " -9.553751e+00 -1.457468e+01 -2.819338e+01 -2.891912e+01 -4.969750e+00\n",
            "  1.820294e+00 -1.350128e+01 -2.928180e+01 -6.969018e+00 -7.561814e+00\n",
            "  4.675780e+00 -2.077276e+01  1.896587e+01 -9.938504e+00 -3.536076e+01\n",
            " -1.079429e+01 -1.680874e+01 -3.089466e+00 -2.517796e+01 -2.117232e+01\n",
            " -1.128403e+01 -1.835437e+01 -1.280048e+01 -6.189078e+00 -1.598461e+01\n",
            " -1.678327e+01 -9.286581e+00 -1.762950e+01 -1.407815e+01 -5.283603e-02\n",
            " -1.811732e+01 -1.415102e+01  6.069386e+00 -7.783267e+00 -2.079489e+01\n",
            " -6.610437e+00 -3.456408e+00 -4.179791e+00 -1.625022e+01 -1.618723e+01\n",
            " -1.661032e+01 -3.270189e+01 -9.255130e+00 -5.053665e+00 -2.352454e+00\n",
            " -5.121532e-01 -1.357959e+01 -1.016704e+01 -5.404058e+00 -1.794243e+01\n",
            " -2.569833e+01 -1.738876e+01 -2.094383e+01 -5.505733e+00 -3.398674e+00\n",
            " -9.804844e+00 -2.733672e+01 -2.224747e+01 -1.036324e+01 -1.988670e+00\n",
            " -1.776930e+01 -1.210119e+01 -2.676765e+01 -7.789096e+00 -6.095375e+00\n",
            "  1.156722e+01 -9.785644e+00 -1.213077e+01 -6.077383e+00 -1.444639e+01\n",
            " -1.141788e+01 -4.073038e+00 -1.627670e+01 -3.779037e+01 -6.868666e+00\n",
            " -9.450905e+00 -1.732569e+01 -1.016413e+01 -7.567408e+00 -8.598391e+00\n",
            " -5.515496e+00 -8.239429e+00 -2.837739e+01 -1.308401e+01 -7.281507e+00\n",
            "  4.954800e+00 -1.293427e+01 -7.872746e+00 -2.210981e+01  7.196266e-01\n",
            " -1.594158e+01 -2.052493e+01 -1.642671e+01 -1.329946e+01 -7.778993e+00\n",
            " -1.670996e+01  7.695373e-01 -2.373576e+00 -8.759966e+00 -4.956535e+00\n",
            " -2.984639e+01 -1.190950e+01 -1.613610e+01 -1.194191e+01 -3.247361e+01\n",
            " -1.219301e+01 -2.069438e+01 -3.287801e+00 -1.618462e+01 -7.422444e+00\n",
            " -2.218659e+01 -1.370663e+01 -1.131437e+01 -1.200560e+00 -3.159422e+01\n",
            "  5.640220e+00 -1.251884e+01 -1.520381e+01  2.466355e-01 -1.989357e+01\n",
            " -5.646970e+00 -1.327130e+01 -1.795129e+01 -4.231365e+00 -1.115464e+01\n",
            " -1.409135e+01 -2.454733e+01  4.297182e+00 -3.267201e+01 -2.769607e+01\n",
            " -3.501962e+01  1.910021e+00 -1.345955e+01  4.444605e+00  1.485406e+01\n",
            " -1.845935e-01 -4.600472e+00 -7.373770e+00 -4.596114e+00 -1.009449e+01\n",
            " -7.996270e+00 -1.819404e+00 -8.007767e+00 -7.560444e+00 -3.014147e+01\n",
            "  9.762690e-01 -2.307693e+00 -2.141706e+01  4.243742e-01 -3.700921e+00\n",
            " -4.502811e+00  1.935797e+01  2.191131e+00 -1.874531e+01  5.214438e+00\n",
            " -1.361926e+01 -3.879550e+01 -1.133446e+01 -5.572901e+00 -2.312137e+01\n",
            " -2.730873e+01 -1.745695e+01  8.623792e-01  7.055012e+00 -1.772830e+01\n",
            " -3.913034e+00 -2.424757e+01 -2.008821e+01  1.649464e+00 -1.575875e+01\n",
            " -1.461174e+01 -1.880588e+01 -1.557155e+01 -3.048215e+01 -7.357508e+00\n",
            " -4.398561e+00 -1.037657e+01  1.450799e+01 -7.867749e+00 -1.683939e+01\n",
            " -7.142002e+00 -2.203176e+01 -1.065431e+01 -7.022610e+00  2.782472e-01\n",
            " -2.088020e+01 -3.268589e+00 -9.672550e+00  6.197267e+00 -1.789441e+01\n",
            " -2.029111e+01 -1.298200e+01 -2.274285e+01  2.738940e+00 -7.237918e+00\n",
            " -1.298729e+01 -1.763764e+01 -1.576560e+01 -1.870377e+01 -1.510186e+01\n",
            " -2.209427e+01 -1.139254e+01 -9.150550e+00 -7.067629e+00 -1.601771e+01\n",
            "  4.938050e+00 -1.873922e+01 -6.461061e+00 -2.373299e+00 -1.050136e+01\n",
            " -1.225584e+01 -2.487731e+01]\n"
          ],
          "name": "stdout"
        }
      ]
    },
    {
      "cell_type": "code",
      "metadata": {
        "id": "JqSOsYuYluHa",
        "colab_type": "code",
        "colab": {
          "base_uri": "https://localhost:8080/",
          "height": 294
        },
        "outputId": "6609da6d-4e5a-4a54-fc80-ee1c231a6b48"
      },
      "source": [
        "# Visualising the clusters\n",
        "#plt.scatter(features[:,0][y_kmeans == 0], features[:,1][y_kmeans == 0], s = 100, c = 'red', label = 'Cluster 1')\n",
        "plt.scatter(features[pred_cluster == 0, 0], features[pred_cluster == 0, 1], c = 'blue', label = 'Cluster 1')\n",
        "plt.scatter(features[pred_cluster == 1, 0], features[pred_cluster == 1, 1], c = 'red', label = 'Cluster 2')\n",
        "plt.scatter(features[pred_cluster == 2, 0], features[pred_cluster == 2, 1], c = 'green', label = 'Cluster 3')\n",
        "plt.scatter(kmeans.cluster_centers_[:, 0], kmeans.cluster_centers_[:, 1], c = 'yellow', label = 'Centroids')\n",
        "\n",
        "\n",
        "\n",
        "plt.title('Clusters of datapoints')\n",
        "plt.xlabel('X Cordindates')\n",
        "plt.ylabel('Y Cordinates')\n",
        "plt.legend()\n",
        "plt.show()"
      ],
      "execution_count": 42,
      "outputs": [
        {
          "output_type": "display_data",
          "data": {
            "image/png": "[encoded data removed]",
            "text/plain": [
              "<Figure size 432x288 with 1 Axes>"
            ]
          },
          "metadata": {
            "tags": [],
            "needs_background": "light"
          }
        }
      ]
    }
  ]
}