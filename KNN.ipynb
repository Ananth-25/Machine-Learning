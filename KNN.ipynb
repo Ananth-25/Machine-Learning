{
  "nbformat": 4,
  "nbformat_minor": 0,
  "metadata": {
    "colab": {
      "name": "Untitled6.ipynb",
      "provenance": [],
      "authorship_tag": "ABX9TyPFgxY6Q0sd3GX+FMwF15yS",
      "include_colab_link": true
    },
    "kernelspec": {
      "name": "python3",
      "display_name": "Python 3"
    }
  },
  "cells": [
    {
      "cell_type": "markdown",
      "metadata": {
        "id": "view-in-github",
        "colab_type": "text"
      },
      "source": [
        "<a href=\"https://colab.research.google.com/github/Ananth-25/Machine-Learning/blob/master/KNN.ipynb\" target=\"_parent\"><img src=\"https://colab.research.google.com/assets/colab-badge.svg\" alt=\"Open In Colab\"/></a>"
      ]
    },
    {
      "cell_type": "code",
      "metadata": {
        "id": "x7AenvKEgIhF",
        "colab_type": "code",
        "colab": {}
      },
      "source": [
        "import pandas as pd  \n",
        "import numpy as np  \n",
        "import matplotlib.pyplot as plt  "
      ],
      "execution_count": 1,
      "outputs": []
    },
    {
      "cell_type": "code",
      "metadata": {
        "id": "lrfhkYnmkUFe",
        "colab_type": "code",
        "colab": {
          "base_uri": "https://localhost:8080/",
          "height": 123
        },
        "outputId": "9efc3f42-a1d0-45c1-adcb-ccf0743a1d8b"
      },
      "source": [
        "df = pd.read_csv('caesarian.csv')  \n",
        "print (df.head())"
      ],
      "execution_count": 13,
      "outputs": [
        {
          "output_type": "stream",
          "text": [
            "   Age  DeliveryNumber  DeliveryTime  BloodPressure  HeartProblem  Caesarian\n",
            "0   22               1             0              2             0          0\n",
            "1   26               2             0              1             0          1\n",
            "2   26               2             1              1             0          0\n",
            "3   28               1             0              2             0          0\n",
            "4   22               2             0              1             0          1\n"
          ],
          "name": "stdout"
        }
      ]
    },
    {
      "cell_type": "code",
      "metadata": {
        "id": "51N5rw8ekZcB",
        "colab_type": "code",
        "colab": {}
      },
      "source": [
        "labels = df.iloc[:,5].values \n",
        "features = df.iloc[:,:5].values"
      ],
      "execution_count": 14,
      "outputs": []
    },
    {
      "cell_type": "code",
      "metadata": {
        "id": "w5pBziGYkd_o",
        "colab_type": "code",
        "colab": {}
      },
      "source": [
        "# Splitting the dataset into the Training set and Test set\n",
        "from sklearn.model_selection import train_test_split\n",
        "features_train, features_test, labels_train, labels_test = train_test_split(features, labels, test_size = 0.25)"
      ],
      "execution_count": 15,
      "outputs": []
    },
    {
      "cell_type": "code",
      "metadata": {
        "id": "S5ThgXUykhwk",
        "colab_type": "code",
        "colab": {
          "base_uri": "https://localhost:8080/",
          "height": 70
        },
        "outputId": "a19b10f5-8ff0-4085-8909-3eca680c631a"
      },
      "source": [
        "# Fitting kNN to the Training set\n",
        "from sklearn.neighbors import KNeighborsClassifier\n",
        "\n",
        "\n",
        "# When p = 1, this is equivalent to using manhattan_distance (l1), \n",
        "# and euclidean_distance (l2) for p = 2\n",
        "classifier = KNeighborsClassifier(n_neighbors = 5, p = 2) \n",
        "\n",
        "\n",
        "classifier.fit(features_train, labels_train)"
      ],
      "execution_count": 16,
      "outputs": [
        {
          "output_type": "execute_result",
          "data": {
            "text/plain": [
              "KNeighborsClassifier(algorithm='auto', leaf_size=30, metric='minkowski',\n",
              "                     metric_params=None, n_jobs=None, n_neighbors=5, p=2,\n",
              "                     weights='uniform')"
            ]
          },
          "metadata": {
            "tags": []
          },
          "execution_count": 16
        }
      ]
    },
    {
      "cell_type": "code",
      "metadata": {
        "id": "jTHl44Huklgi",
        "colab_type": "code",
        "colab": {}
      },
      "source": [
        "#Calculate Class Probabilities\n",
        "probability = classifier.predict_proba(features_test)"
      ],
      "execution_count": 17,
      "outputs": []
    },
    {
      "cell_type": "code",
      "metadata": {
        "id": "7Z1sp4IPko05",
        "colab_type": "code",
        "colab": {}
      },
      "source": [
        "# Predicting the class labels\n",
        "labels_pred = classifier.predict(features_test)"
      ],
      "execution_count": 18,
      "outputs": []
    },
    {
      "cell_type": "code",
      "metadata": {
        "id": "9XjT2Vtukroy",
        "colab_type": "code",
        "colab": {
          "base_uri": "https://localhost:8080/",
          "height": 390
        },
        "outputId": "8d888b2e-7571-4e6a-e16b-f2a052db7981"
      },
      "source": [
        "# Comparing the predicted and actual values\n",
        "my_frame= pd.DataFrame(labels_pred, labels_test)\n",
        "print(my_frame)"
      ],
      "execution_count": 19,
      "outputs": [
        {
          "output_type": "stream",
          "text": [
            "   0\n",
            "1  1\n",
            "1  1\n",
            "0  1\n",
            "0  0\n",
            "1  1\n",
            "1  0\n",
            "1  1\n",
            "1  1\n",
            "0  0\n",
            "1  1\n",
            "0  0\n",
            "0  1\n",
            "1  0\n",
            "1  1\n",
            "1  0\n",
            "0  0\n",
            "1  1\n",
            "0  0\n",
            "0  1\n",
            "1  1\n"
          ],
          "name": "stdout"
        }
      ]
    },
    {
      "cell_type": "code",
      "metadata": {
        "id": "1GCb-nmHkuVI",
        "colab_type": "code",
        "colab": {
          "base_uri": "https://localhost:8080/",
          "height": 52
        },
        "outputId": "abfa3155-48ce-420f-f162-484553b60c9f"
      },
      "source": [
        "#Making the Confusion Matrix\n",
        "from sklearn.metrics import confusion_matrix\n",
        "cm = confusion_matrix(labels_test, labels_pred)\n",
        "print(cm)"
      ],
      "execution_count": 20,
      "outputs": [
        {
          "output_type": "stream",
          "text": [
            "[[5 3]\n",
            " [3 9]]\n"
          ],
          "name": "stdout"
        }
      ]
    }
  ]
}